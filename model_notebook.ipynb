{
 "cells": [
  {
   "cell_type": "markdown",
   "metadata": {},
   "source": [
    "# Importing LIB"
   ]
  },
  {
   "cell_type": "code",
   "execution_count": 7,
   "metadata": {},
   "outputs": [],
   "source": [
    "import spotipy\n",
    "from spotipy.oauth2 import SpotifyClientCredentials\n",
    "from sklearn.metrics.pairwise import cosine_similarity"
   ]
  },
  {
   "cell_type": "markdown",
   "metadata": {},
   "source": [
    "# Setting Up Spotify API"
   ]
  },
  {
   "cell_type": "code",
   "execution_count": 2,
   "metadata": {},
   "outputs": [],
   "source": [
    "client_id = 'ENTER YOUR CLIENT ID'\n",
    "client_secret = 'ENTER YOUR CLIENT SECRET'"
   ]
  },
  {
   "cell_type": "code",
   "execution_count": 3,
   "metadata": {},
   "outputs": [],
   "source": [
    "client_credentials_manager = SpotifyClientCredentials(client_id=client_id, client_secret=client_secret)\n",
    "sp = spotipy.Spotify(client_credentials_manager=client_credentials_manager)"
   ]
  },
  {
   "cell_type": "markdown",
   "metadata": {},
   "source": [
    "# Sample user input/ Input Test Dara"
   ]
  },
  {
   "cell_type": "code",
   "execution_count": 15,
   "metadata": {},
   "outputs": [],
   "source": [
    "user_preferences = [\"5S3Gs7vbeSvGZ9t5Kp3dh9\", \"1mSlftOO1dlDRXAyOE0Sbd\", \"4dVnE4XmzKgLaKFBeRf5fi\"]"
   ]
  },
  {
   "cell_type": "code",
   "execution_count": 16,
   "metadata": {},
   "outputs": [],
   "source": [
    "def get_audio_features(track_uris):\n",
    "    audio_features = []\n",
    "    for uri in track_uris:\n",
    "        track_id = uri\n",
    "        track_features = sp.audio_features(track_id)\n",
    "        if track_features:\n",
    "            audio_features.append(track_features[0])\n",
    "    return audio_features\n"
   ]
  },
  {
   "cell_type": "code",
   "execution_count": 17,
   "metadata": {},
   "outputs": [],
   "source": [
    "user_audio_features = get_audio_features(user_preferences)"
   ]
  },
  {
   "cell_type": "markdown",
   "metadata": {},
   "source": [
    "# Seed Play list/ Our Main Data"
   ]
  },
  {
   "cell_type": "code",
   "execution_count": 18,
   "metadata": {},
   "outputs": [],
   "source": [
    "popular_tracks = sp.playlist_tracks('5S8SJdl1BDc0ugpkEvFsIL')"
   ]
  },
  {
   "cell_type": "markdown",
   "metadata": {},
   "source": [
    "# Cosine Similarity"
   ]
  },
  {
   "cell_type": "code",
   "execution_count": 53,
   "metadata": {},
   "outputs": [],
   "source": [
    "def calculate_cosine_similarity(user_features, track_features):\n",
    "    user_features = [user_features[1]['danceability'], user_features[1]['energy'], user_features[1]['valence']]\n",
    "    track_features = [track_features['danceability'], track_features['energy'], track_features['valence']]\n",
    "    return cosine_similarity([user_features], [track_features])[0][0]"
   ]
  },
  {
   "cell_type": "code",
   "execution_count": 54,
   "metadata": {},
   "outputs": [],
   "source": [
    "similarities = []\n",
    "for track in popular_tracks['items']:\n",
    "    track_audio_features = sp.audio_features(track['track']['uri'])[0]\n",
    "    similarity = calculate_cosine_similarity(user_audio_features, track_audio_features)\n",
    "    similarities.append((track['track']['name'], track['track']['artists'][0]['name'], similarity))"
   ]
  },
  {
   "cell_type": "code",
   "execution_count": 55,
   "metadata": {},
   "outputs": [],
   "source": [
    "similarities.sort(key=lambda x: x[2], reverse=True)"
   ]
  },
  {
   "cell_type": "markdown",
   "metadata": {},
   "source": [
    "# Getting the Recommendations"
   ]
  },
  {
   "cell_type": "code",
   "execution_count": 56,
   "metadata": {},
   "outputs": [
    {
     "name": "stdout",
     "output_type": "stream",
     "text": [
      "Track: Lover, Artist: Taylor Swift, Similarity: 1.00\n",
      "Track: As It Was, Artist: Harry Styles, Similarity: 1.00\n",
      "Track: Dance The Night - From Barbie The Album, Artist: Dua Lipa, Similarity: 0.99\n",
      "Track: Cruel Summer, Artist: Taylor Swift, Similarity: 0.99\n",
      "Track: Que Onda, Artist: Calle 24, Similarity: 0.99\n",
      "Track: un x100to, Artist: Grupo Frontera, Similarity: 0.98\n",
      "Track: LADY GAGA, Artist: Peso Pluma, Similarity: 0.98\n",
      "Track: Seven (feat. Latto) (Explicit Ver.), Artist: Jung Kook, Similarity: 0.98\n",
      "Track: One Of Your Girls, Artist: Troye Sivan, Similarity: 0.98\n",
      "Track: greedy, Artist: Tate McRae, Similarity: 0.97\n"
     ]
    }
   ],
   "source": [
    "for track in similarities[:10]:\n",
    "    print(f\"Track: {track[0]}, Artist: {track[1]}, Similarity: {track[2]:.2f}\")"
   ]
  },
  {
   "cell_type": "code",
   "execution_count": null,
   "metadata": {},
   "outputs": [],
   "source": []
  }
 ],
 "metadata": {
  "kernelspec": {
   "display_name": "cdpy310",
   "language": "python",
   "name": "python3"
  },
  "language_info": {
   "codemirror_mode": {
    "name": "ipython",
    "version": 3
   },
   "file_extension": ".py",
   "mimetype": "text/x-python",
   "name": "python",
   "nbconvert_exporter": "python",
   "pygments_lexer": "ipython3",
   "version": "3.10.4"
  }
 },
 "nbformat": 4,
 "nbformat_minor": 2
}
