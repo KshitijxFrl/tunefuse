{
 "cells": [
  {
   "cell_type": "code",
   "execution_count": 7,
   "metadata": {},
   "outputs": [],
   "source": [
    "import spotipy\n",
    "from spotipy.oauth2 import SpotifyClientCredentials\n",
    "from sklearn.metrics.pairwise import cosine_similarity\n",
    "import pandas as pd\n",
    "import requests\n",
    "import base64"
   ]
  },
  {
   "cell_type": "code",
   "execution_count": 2,
   "metadata": {},
   "outputs": [],
   "source": [
    "client_id = '5fca1c7bb348462aa06215d155953a50'\n",
    "client_secret = '8f4c16e4d7aa476ab71305973df02fa6'"
   ]
  },
  {
   "cell_type": "code",
   "execution_count": 3,
   "metadata": {},
   "outputs": [],
   "source": [
    "client_credentials_manager = SpotifyClientCredentials(client_id=client_id, client_secret=client_secret)\n",
    "sp = spotipy.Spotify(client_credentials_manager=client_credentials_manager)"
   ]
  },
  {
   "cell_type": "code",
   "execution_count": 15,
   "metadata": {},
   "outputs": [],
   "source": [
    "user_preferences = [\"5S3Gs7vbeSvGZ9t5Kp3dh9\", \"1mSlftOO1dlDRXAyOE0Sbd\", \"4dVnE4XmzKgLaKFBeRf5fi\"]"
   ]
  },
  {
   "cell_type": "code",
   "execution_count": 16,
   "metadata": {},
   "outputs": [],
   "source": [
    "def get_audio_features(track_uris):\n",
    "    audio_features = []\n",
    "    for uri in track_uris:\n",
    "        track_id = uri\n",
    "        track_features = sp.audio_features(track_id)\n",
    "        if track_features:\n",
    "            audio_features.append(track_features[0])\n",
    "    return audio_features\n"
   ]
  },
  {
   "cell_type": "code",
   "execution_count": 17,
   "metadata": {},
   "outputs": [],
   "source": [
    "user_audio_features = get_audio_features(user_preferences)"
   ]
  },
  {
   "cell_type": "code",
   "execution_count": 47,
   "metadata": {},
   "outputs": [
    {
     "name": "stdout",
     "output_type": "stream",
     "text": [
      "0.448\n"
     ]
    }
   ],
   "source": [
    "print(user_audio_features[1]['danceability'])"
   ]
  },
  {
   "cell_type": "code",
   "execution_count": 18,
   "metadata": {},
   "outputs": [],
   "source": [
    "popular_tracks = sp.playlist_tracks('37i9dQZEVXbMDoHDwVN2tF')"
   ]
  },
  {
   "cell_type": "code",
   "execution_count": 53,
   "metadata": {},
   "outputs": [],
   "source": [
    "def calculate_cosine_similarity(user_features, track_features):\n",
    "    user_features = [user_features[1]['danceability'], user_features[1]['energy'], user_features[1]['valence']]\n",
    "    track_features = [track_features['danceability'], track_features['energy'], track_features['valence']]\n",
    "    return cosine_similarity([user_features], [track_features])[0][0]"
   ]
  },
  {
   "cell_type": "code",
   "execution_count": 54,
   "metadata": {},
   "outputs": [],
   "source": [
    "similarities = []\n",
    "for track in popular_tracks['items']:\n",
    "    track_audio_features = sp.audio_features(track['track']['uri'])[0]\n",
    "    similarity = calculate_cosine_similarity(user_audio_features, track_audio_features)\n",
    "    similarities.append((track['track']['name'], track['track']['artists'][0]['name'], similarity))"
   ]
  },
  {
   "cell_type": "code",
   "execution_count": 55,
   "metadata": {},
   "outputs": [],
   "source": [
    "similarities.sort(key=lambda x: x[2], reverse=True)"
   ]
  },
  {
   "cell_type": "code",
   "execution_count": 56,
   "metadata": {},
   "outputs": [
    {
     "name": "stdout",
     "output_type": "stream",
     "text": [
      "Track: Lover, Artist: Taylor Swift, Similarity: 1.00\n",
      "Track: As It Was, Artist: Harry Styles, Similarity: 1.00\n",
      "Track: Dance The Night - From Barbie The Album, Artist: Dua Lipa, Similarity: 0.99\n",
      "Track: Cruel Summer, Artist: Taylor Swift, Similarity: 0.99\n",
      "Track: Que Onda, Artist: Calle 24, Similarity: 0.99\n",
      "Track: un x100to, Artist: Grupo Frontera, Similarity: 0.98\n",
      "Track: LADY GAGA, Artist: Peso Pluma, Similarity: 0.98\n",
      "Track: Seven (feat. Latto) (Explicit Ver.), Artist: Jung Kook, Similarity: 0.98\n",
      "Track: One Of Your Girls, Artist: Troye Sivan, Similarity: 0.98\n",
      "Track: greedy, Artist: Tate McRae, Similarity: 0.97\n"
     ]
    }
   ],
   "source": [
    "for track in similarities[:10]:\n",
    "    print(f\"Track: {track[0]}, Artist: {track[1]}, Similarity: {track[2]:.2f}\")"
   ]
  },
  {
   "cell_type": "code",
   "execution_count": null,
   "metadata": {},
   "outputs": [],
   "source": []
  },
  {
   "cell_type": "code",
   "execution_count": 10,
   "metadata": {},
   "outputs": [],
   "source": [
    "client_credentials = f'{client_id}:{client_secret}'\n",
    "base64_encoded_client_credentials = base64.b64encode(client_credentials.encode()).decode('utf-8')"
   ]
  },
  {
   "cell_type": "code",
   "execution_count": 19,
   "metadata": {},
   "outputs": [],
   "source": [
    "song_name = 'despacito'"
   ]
  },
  {
   "cell_type": "code",
   "execution_count": 12,
   "metadata": {},
   "outputs": [],
   "source": [
    "token_url = 'https://accounts.spotify.com/api/token'\n",
    "token_data = {\n",
    "    'grant_type': 'client_credentials',\n",
    "}"
   ]
  },
  {
   "cell_type": "code",
   "execution_count": 13,
   "metadata": {},
   "outputs": [],
   "source": [
    "token_headers = {\n",
    "    'Authorization': f'Basic {base64_encoded_client_credentials}', \n",
    "}"
   ]
  },
  {
   "cell_type": "code",
   "execution_count": 14,
   "metadata": {},
   "outputs": [],
   "source": [
    "token_response = requests.post(token_url, data=token_data, headers=token_headers)\n",
    "token_data = token_response.json()\n",
    "access_token = token_data['access_token']"
   ]
  },
  {
   "cell_type": "code",
   "execution_count": 20,
   "metadata": {},
   "outputs": [],
   "source": [
    "search_url = 'https://api.spotify.com/v1/search'\n",
    "search_params = {\n",
    "    'q': song_name,\n",
    "    'type': 'track',\n",
    "}"
   ]
  },
  {
   "cell_type": "code",
   "execution_count": 21,
   "metadata": {},
   "outputs": [],
   "source": [
    "search_headers = {\n",
    "    'Authorization': f'Bearer {access_token}',\n",
    "}"
   ]
  },
  {
   "cell_type": "code",
   "execution_count": 22,
   "metadata": {},
   "outputs": [],
   "source": [
    "search_response = requests.get(search_url, params=search_params, headers=search_headers)\n",
    "search_data = search_response.json()"
   ]
  },
  {
   "cell_type": "code",
   "execution_count": 23,
   "metadata": {},
   "outputs": [
    {
     "name": "stdout",
     "output_type": "stream",
     "text": [
      "Song URI: spotify:track:6habFhsOp2NvshLv26DqMb\n"
     ]
    }
   ],
   "source": [
    "if search_data['tracks']['total'] > 0:\n",
    "    # Get the URI of the first result (you can loop through results if needed)\n",
    "    song_uri = search_data['tracks']['items'][0]['uri']\n",
    "    print(f'Song URI: {song_uri}')\n",
    "else:\n",
    "    print('Song not found on Spotify')\n"
   ]
  },
  {
   "cell_type": "code",
   "execution_count": null,
   "metadata": {},
   "outputs": [],
   "source": []
  }
 ],
 "metadata": {
  "kernelspec": {
   "display_name": "cdpy310",
   "language": "python",
   "name": "python3"
  },
  "language_info": {
   "codemirror_mode": {
    "name": "ipython",
    "version": 3
   },
   "file_extension": ".py",
   "mimetype": "text/x-python",
   "name": "python",
   "nbconvert_exporter": "python",
   "pygments_lexer": "ipython3",
   "version": "3.10.4"
  }
 },
 "nbformat": 4,
 "nbformat_minor": 2
}
